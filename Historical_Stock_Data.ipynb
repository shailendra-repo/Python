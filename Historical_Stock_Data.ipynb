{
  "nbformat": 4,
  "nbformat_minor": 0,
  "metadata": {
    "colab": {
      "name": "Historical_Stock_Data.ipynb",
      "provenance": [],
      "authorship_tag": "ABX9TyMUnLb6Xw9XTRj36oyjoGDK",
      "include_colab_link": true
    },
    "kernelspec": {
      "name": "python3",
      "display_name": "Python 3"
    },
    "language_info": {
      "name": "python"
    }
  },
  "cells": [
    {
      "cell_type": "markdown",
      "metadata": {
        "id": "view-in-github",
        "colab_type": "text"
      },
      "source": [
        "<a href=\"https://colab.research.google.com/github/shailendra-repo/Python/blob/main/Historical_Stock_Data.ipynb\" target=\"_parent\"><img src=\"https://colab.research.google.com/assets/colab-badge.svg\" alt=\"Open In Colab\"/></a>"
      ]
    },
    {
      "cell_type": "code",
      "metadata": {
        "id": "8X_9kED-8omu"
      },
      "source": [
        ""
      ],
      "execution_count": null,
      "outputs": []
    },
    {
      "cell_type": "markdown",
      "metadata": {
        "id": "9eMLnEFN8xD7"
      },
      "source": [
        "## Historical_Stock_Data."
      ]
    },
    {
      "cell_type": "code",
      "metadata": {
        "id": "_iKUW8Dh80II"
      },
      "source": [
        "import pandas as pd\n",
        "import pandas_datareader\n",
        "import numpy as np\n",
        "import matplotlib.pyplot as plt\n",
        "%matplotlib inline\n",
        "\n",
        "import datetime\n",
        "import datetime as datetime\n",
        "\n",
        "pd.set_option('display.max_columns',10)\n",
        "pd.set_option('display.max_rows',10)\n",
        "pd.set_option('display.notebook_repr_html', False)\n",
        "pd.set_option('precision',7)\n",
        "pd.set_option('display.width',78)\n"
      ],
      "execution_count": 1,
      "outputs": []
    },
    {
      "cell_type": "markdown",
      "metadata": {
        "id": "Cl4bbPhp94tq"
      },
      "source": [
        "### Obtaining historical stock and index data"
      ]
    },
    {
      "cell_type": "markdown",
      "metadata": {
        "id": "GcoUe3Td99-a"
      },
      "source": [
        "###Fetching stock data from Yahoo!"
      ]
    },
    {
      "cell_type": "code",
      "metadata": {
        "id": "L7qylqZE9dYO"
      },
      "source": [
        "# request the previous three years of data for MSFT\n",
        "# 2012 through 2014\n",
        "start = datetime.date(2012, 1, 1)\n",
        "end = datetime.date(2014, 12, 31)"
      ],
      "execution_count": 2,
      "outputs": []
    },
    {
      "cell_type": "code",
      "metadata": {
        "colab": {
          "base_uri": "https://localhost:8080/"
        },
        "id": "lal0Oa1t-OPZ",
        "outputId": "59410787-854f-4010-ebd5-e3dca12ebe0b"
      },
      "source": [
        "msft = pd.read_csv('msft.csv')\n",
        "msft"
      ],
      "execution_count": 3,
      "outputs": [
        {
          "output_type": "execute_result",
          "data": {
            "text/plain": [
              "           Date        High         Low        Open       Close      Volume  \\\n",
              "0    2012-01-03  26.9599991  26.3899994  26.5499992  26.7700005  64731500.0   \n",
              "1    2012-01-04  27.4699993  26.7800007  26.8199997  27.3999996  80516100.0   \n",
              "2    2012-01-05  27.7299995  27.2900009  27.3799992  27.6800003  56081400.0   \n",
              "3    2012-01-06  28.1900005  27.5300007  27.5300007  28.1100006  99455500.0   \n",
              "4    2012-01-09  28.1000004  27.7199993  28.0499992  27.7399998  59706800.0   \n",
              "..          ...         ...         ...         ...         ...         ...   \n",
              "749  2014-12-24  48.6399994  48.0800018  48.6399994  48.1399994  11437800.0   \n",
              "750  2014-12-26  48.4099998  47.8199997  48.4099998  47.8800011  13197800.0   \n",
              "751  2014-12-29  47.7799988  47.2599983  47.7000008  47.4500008  14439500.0   \n",
              "752  2014-12-30  47.6199989  46.8400002  47.4399986  47.0200005  16384700.0   \n",
              "753  2014-12-31  47.4399986  46.4500008  46.7299995  46.4500008  21552500.0   \n",
              "\n",
              "      Adj Close  \n",
              "0    21.7074871  \n",
              "1    22.2183475  \n",
              "2    22.4453964  \n",
              "3    22.7940750  \n",
              "4    22.4940453  \n",
              "..          ...  \n",
              "749  42.4871635  \n",
              "750  42.2576942  \n",
              "751  41.8781891  \n",
              "752  41.4986687  \n",
              "753  40.9956131  \n",
              "\n",
              "[754 rows x 7 columns]"
            ]
          },
          "metadata": {},
          "execution_count": 3
        }
      ]
    },
    {
      "cell_type": "code",
      "metadata": {
        "colab": {
          "base_uri": "https://localhost:8080/"
        },
        "id": "01OpLPZd-qWk",
        "outputId": "8e49993b-9f40-4544-e6b3-e3f8fe129cb9"
      },
      "source": [
        "# request the previous three years of data for MSFT\n",
        "# 2012 through 2014\n",
        "import pandas_datareader\n",
        "start = datetime.date(2012, 1, 1)\n",
        "end = datetime.date(2014, 12, 31)\n",
        "\n",
        "# get data for MSFT\n",
        "msft = pandas_datareader.DataReader('MSFT', \"yahoo\", start, end)\n",
        "msft[:5]"
      ],
      "execution_count": 4,
      "outputs": [
        {
          "output_type": "execute_result",
          "data": {
            "text/plain": [
              "                  High         Low        Open       Close      Volume  \\\n",
              "Date                                                                     \n",
              "2012-01-03  26.9599991  26.3899994  26.5499992  26.7700005  64731500.0   \n",
              "2012-01-04  27.4699993  26.7800007  26.8199997  27.3999996  80516100.0   \n",
              "2012-01-05  27.7299995  27.2900009  27.3799992  27.6800003  56081400.0   \n",
              "2012-01-06  28.1900005  27.5300007  27.5300007  28.1100006  99455500.0   \n",
              "2012-01-09  28.1000004  27.7199993  28.0499992  27.7399998  59706800.0   \n",
              "\n",
              "             Adj Close  \n",
              "Date                    \n",
              "2012-01-03  21.7074871  \n",
              "2012-01-04  22.2183475  \n",
              "2012-01-05  22.4453964  \n",
              "2012-01-06  22.7940750  \n",
              "2012-01-09  22.4940453  "
            ]
          },
          "metadata": {},
          "execution_count": 4
        }
      ]
    },
    {
      "cell_type": "code",
      "metadata": {
        "colab": {
          "base_uri": "https://localhost:8080/"
        },
        "id": "8mpDVit-DXKb",
        "outputId": "15af365e-8ab4-4878-aea5-79402a0a35b1"
      },
      "source": [
        "#!pip install pandas-datareader --upgrade"
      ],
      "execution_count": 5,
      "outputs": [
        {
          "output_type": "stream",
          "name": "stdout",
          "text": [
            "Requirement already satisfied: pandas-datareader in /usr/local/lib/python3.7/dist-packages (0.10.0)\n",
            "Requirement already satisfied: pandas>=0.23 in /usr/local/lib/python3.7/dist-packages (from pandas-datareader) (1.1.5)\n",
            "Requirement already satisfied: requests>=2.19.0 in /usr/local/lib/python3.7/dist-packages (from pandas-datareader) (2.23.0)\n",
            "Requirement already satisfied: lxml in /usr/local/lib/python3.7/dist-packages (from pandas-datareader) (4.2.6)\n",
            "Requirement already satisfied: python-dateutil>=2.7.3 in /usr/local/lib/python3.7/dist-packages (from pandas>=0.23->pandas-datareader) (2.8.2)\n",
            "Requirement already satisfied: numpy>=1.15.4 in /usr/local/lib/python3.7/dist-packages (from pandas>=0.23->pandas-datareader) (1.19.5)\n",
            "Requirement already satisfied: pytz>=2017.2 in /usr/local/lib/python3.7/dist-packages (from pandas>=0.23->pandas-datareader) (2018.9)\n",
            "Requirement already satisfied: six>=1.5 in /usr/local/lib/python3.7/dist-packages (from python-dateutil>=2.7.3->pandas>=0.23->pandas-datareader) (1.15.0)\n",
            "Requirement already satisfied: urllib3!=1.25.0,!=1.25.1,<1.26,>=1.21.1 in /usr/local/lib/python3.7/dist-packages (from requests>=2.19.0->pandas-datareader) (1.24.3)\n",
            "Requirement already satisfied: idna<3,>=2.5 in /usr/local/lib/python3.7/dist-packages (from requests>=2.19.0->pandas-datareader) (2.10)\n",
            "Requirement already satisfied: certifi>=2017.4.17 in /usr/local/lib/python3.7/dist-packages (from requests>=2.19.0->pandas-datareader) (2021.5.30)\n",
            "Requirement already satisfied: chardet<4,>=3.0.2 in /usr/local/lib/python3.7/dist-packages (from requests>=2.19.0->pandas-datareader) (3.0.4)\n"
          ]
        }
      ]
    },
    {
      "cell_type": "code",
      "metadata": {
        "id": "_eXMZMvtEGj6"
      },
      "source": [
        ""
      ],
      "execution_count": 5,
      "outputs": []
    }
  ]
}